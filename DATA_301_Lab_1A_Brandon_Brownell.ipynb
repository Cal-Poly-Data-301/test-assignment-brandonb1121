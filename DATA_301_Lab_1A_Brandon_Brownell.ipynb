{
  "nbformat": 4,
  "nbformat_minor": 0,
  "metadata": {
    "kernelspec": {
      "display_name": "Python 3",
      "language": "python",
      "name": "python3"
    },
    "language_info": {
      "codemirror_mode": {
        "name": "ipython",
        "version": 3
      },
      "file_extension": ".py",
      "mimetype": "text/x-python",
      "name": "python",
      "nbconvert_exporter": "python",
      "pygments_lexer": "ipython3",
      "version": "3.6.4"
    },
    "colab": {
      "name": "DATA 301 Lab 1A - Brandon Brownell",
      "provenance": [],
      "collapsed_sections": [],
      "include_colab_link": true
    }
  },
  "cells": [
    {
      "cell_type": "markdown",
      "metadata": {
        "id": "view-in-github",
        "colab_type": "text"
      },
      "source": [
        "<a href=\"https://colab.research.google.com/github/brandonb1121/test-assignment-brandonb1121/blob/main/DATA_301_Lab_1A_Brandon_Brownell.ipynb\" target=\"_parent\"><img src=\"https://colab.research.google.com/assets/colab-badge.svg\" alt=\"Open In Colab\"/></a>"
      ]
    },
    {
      "cell_type": "markdown",
      "metadata": {
        "id": "fQLu8g7NkVNI"
      },
      "source": [
        "# The Distribution of First Digits\n",
        "\n",
        "In this lab, you will explore the distribution of first digits in real data. For example, the first digits of the numbers 52, 30.8, and 0.07 are 5, 3, and 7 respectively. In this lab, you will investigate the question: how frequently does each digit 1-9 appear as the first digit of the number?"
      ]
    },
    {
      "cell_type": "markdown",
      "metadata": {
        "id": "X4RaiSB8kVNJ"
      },
      "source": [
        "## Question 0\n",
        "\n",
        "Make a prediction. \n",
        "\n",
        "1. Approximately what percentage of the values do you think will have a _first_ digit of 1? What percentage of the values do you think will have a first digit of 9?\n",
        "2. Approximately what percentage of the values do you think will have a _last_ digit of 1? What percentage of the values do you think will have a last digit of 9?\n",
        "\n",
        "(Don't worry about being wrong. You will earn full credit for any justified answer.)"
      ]
    },
    {
      "cell_type": "markdown",
      "metadata": {
        "id": "WlxSEeCxkVNK"
      },
      "source": [
        "**ENTER YOUR WRITTEN EXPLANATION HERE.**"
      ]
    },
    {
      "cell_type": "markdown",
      "source": [
        "1. I think the percentage of values to have a first digit of 1 will be 11.11%. Additionally, I also think the percentage of values to have a first digit of 9 will also be 11.11%. Because 0 is ignored as a first digit possibility, there is a 1 in 9 change that a random number will have a specific digit as their first digit. This means for 1 or for 9, there is a 1/9 probability (0.1111) that the digit will be the first digit for a number if it is from random data.\n",
        "\n",
        "2. I think the percentage of values to have a last digit of 1 will be 10%. Additionally, I also think the percentage of values to have a last digit of 9 will also be 10%. Given that 0 is now included for being a last digit in a number, this means there are now 10 possibilites for what a last digit could be. This means for 1 or for 9, there is a 1/10 probability (0.10) that the digit will be the last digit for a number if it is from random data."
      ],
      "metadata": {
        "id": "EdR2kPBWMnfj"
      }
    },
    {
      "cell_type": "markdown",
      "metadata": {
        "id": "IKpeJAfokVNL"
      },
      "source": [
        "## Question 1\n",
        "\n",
        "The [S&P 500](https://en.wikipedia.org/wiki/S%26P_500_Index) is a stock index based on the market capitalizations of large companies that are publicly traded on the NYSE or NASDAQ. The CSV file (https://dlsun.github.io/pods/data/sp500.csv) contains data from February 1, 2018 about the stocks that comprise the S&P 500. We will investigate the first digit distributions of the variables in this data set.\n",
        "\n",
        "Read in the S&P 500 data. What is the unit of observation in this data set? Is there a variable that is natural to use as the index? If so, set that variable to be the index. Once you are done, display the `DataFrame`."
      ]
    },
    {
      "cell_type": "code",
      "metadata": {
        "id": "LxNsWuUNkVNM",
        "outputId": "6cfbae7b-df8e-4328-9be2-cc284b8c8f4a",
        "colab": {
          "base_uri": "https://localhost:8080/",
          "height": 455
        }
      },
      "source": [
        "import pandas as pd\n",
        "\n",
        "data_dir = \"https://dlsun.github.io/pods/data/\"\n",
        "df_sp500 = pd.read_csv(data_dir + \"sp500.csv\")\n",
        "df_sp500.set_index(\"Name\", inplace=True)\n",
        "df_sp500"
      ],
      "execution_count": 2,
      "outputs": [
        {
          "output_type": "execute_result",
          "data": {
            "text/html": [
              "\n",
              "  <div id=\"df-4d5e852f-e69d-4130-9506-a26a5919d6e5\">\n",
              "    <div class=\"colab-df-container\">\n",
              "      <div>\n",
              "<style scoped>\n",
              "    .dataframe tbody tr th:only-of-type {\n",
              "        vertical-align: middle;\n",
              "    }\n",
              "\n",
              "    .dataframe tbody tr th {\n",
              "        vertical-align: top;\n",
              "    }\n",
              "\n",
              "    .dataframe thead th {\n",
              "        text-align: right;\n",
              "    }\n",
              "</style>\n",
              "<table border=\"1\" class=\"dataframe\">\n",
              "  <thead>\n",
              "    <tr style=\"text-align: right;\">\n",
              "      <th></th>\n",
              "      <th>date</th>\n",
              "      <th>open</th>\n",
              "      <th>close</th>\n",
              "      <th>volume</th>\n",
              "    </tr>\n",
              "    <tr>\n",
              "      <th>Name</th>\n",
              "      <th></th>\n",
              "      <th></th>\n",
              "      <th></th>\n",
              "      <th></th>\n",
              "    </tr>\n",
              "  </thead>\n",
              "  <tbody>\n",
              "    <tr>\n",
              "      <th>AAL</th>\n",
              "      <td>2018-02-01</td>\n",
              "      <td>$54.00</td>\n",
              "      <td>$53.88</td>\n",
              "      <td>3623078</td>\n",
              "    </tr>\n",
              "    <tr>\n",
              "      <th>AAPL</th>\n",
              "      <td>2018-02-01</td>\n",
              "      <td>$167.16</td>\n",
              "      <td>$167.78</td>\n",
              "      <td>47230787</td>\n",
              "    </tr>\n",
              "    <tr>\n",
              "      <th>AAP</th>\n",
              "      <td>2018-02-01</td>\n",
              "      <td>$116.24</td>\n",
              "      <td>$117.29</td>\n",
              "      <td>760629</td>\n",
              "    </tr>\n",
              "    <tr>\n",
              "      <th>ABBV</th>\n",
              "      <td>2018-02-01</td>\n",
              "      <td>$112.24</td>\n",
              "      <td>$116.34</td>\n",
              "      <td>9943452</td>\n",
              "    </tr>\n",
              "    <tr>\n",
              "      <th>ABC</th>\n",
              "      <td>2018-02-01</td>\n",
              "      <td>$97.74</td>\n",
              "      <td>$99.29</td>\n",
              "      <td>2786798</td>\n",
              "    </tr>\n",
              "    <tr>\n",
              "      <th>...</th>\n",
              "      <td>...</td>\n",
              "      <td>...</td>\n",
              "      <td>...</td>\n",
              "      <td>...</td>\n",
              "    </tr>\n",
              "    <tr>\n",
              "      <th>XYL</th>\n",
              "      <td>2018-02-01</td>\n",
              "      <td>$72.50</td>\n",
              "      <td>$74.84</td>\n",
              "      <td>1817612</td>\n",
              "    </tr>\n",
              "    <tr>\n",
              "      <th>YUM</th>\n",
              "      <td>2018-02-01</td>\n",
              "      <td>$84.24</td>\n",
              "      <td>$83.98</td>\n",
              "      <td>1685275</td>\n",
              "    </tr>\n",
              "    <tr>\n",
              "      <th>ZBH</th>\n",
              "      <td>2018-02-01</td>\n",
              "      <td>$126.35</td>\n",
              "      <td>$128.19</td>\n",
              "      <td>1756300</td>\n",
              "    </tr>\n",
              "    <tr>\n",
              "      <th>ZION</th>\n",
              "      <td>2018-02-01</td>\n",
              "      <td>$53.79</td>\n",
              "      <td>$54.98</td>\n",
              "      <td>3542047</td>\n",
              "    </tr>\n",
              "    <tr>\n",
              "      <th>ZTS</th>\n",
              "      <td>2018-02-01</td>\n",
              "      <td>$76.84</td>\n",
              "      <td>$77.82</td>\n",
              "      <td>2982259</td>\n",
              "    </tr>\n",
              "  </tbody>\n",
              "</table>\n",
              "<p>505 rows × 4 columns</p>\n",
              "</div>\n",
              "      <button class=\"colab-df-convert\" onclick=\"convertToInteractive('df-4d5e852f-e69d-4130-9506-a26a5919d6e5')\"\n",
              "              title=\"Convert this dataframe to an interactive table.\"\n",
              "              style=\"display:none;\">\n",
              "        \n",
              "  <svg xmlns=\"http://www.w3.org/2000/svg\" height=\"24px\"viewBox=\"0 0 24 24\"\n",
              "       width=\"24px\">\n",
              "    <path d=\"M0 0h24v24H0V0z\" fill=\"none\"/>\n",
              "    <path d=\"M18.56 5.44l.94 2.06.94-2.06 2.06-.94-2.06-.94-.94-2.06-.94 2.06-2.06.94zm-11 1L8.5 8.5l.94-2.06 2.06-.94-2.06-.94L8.5 2.5l-.94 2.06-2.06.94zm10 10l.94 2.06.94-2.06 2.06-.94-2.06-.94-.94-2.06-.94 2.06-2.06.94z\"/><path d=\"M17.41 7.96l-1.37-1.37c-.4-.4-.92-.59-1.43-.59-.52 0-1.04.2-1.43.59L10.3 9.45l-7.72 7.72c-.78.78-.78 2.05 0 2.83L4 21.41c.39.39.9.59 1.41.59.51 0 1.02-.2 1.41-.59l7.78-7.78 2.81-2.81c.8-.78.8-2.07 0-2.86zM5.41 20L4 18.59l7.72-7.72 1.47 1.35L5.41 20z\"/>\n",
              "  </svg>\n",
              "      </button>\n",
              "      \n",
              "  <style>\n",
              "    .colab-df-container {\n",
              "      display:flex;\n",
              "      flex-wrap:wrap;\n",
              "      gap: 12px;\n",
              "    }\n",
              "\n",
              "    .colab-df-convert {\n",
              "      background-color: #E8F0FE;\n",
              "      border: none;\n",
              "      border-radius: 50%;\n",
              "      cursor: pointer;\n",
              "      display: none;\n",
              "      fill: #1967D2;\n",
              "      height: 32px;\n",
              "      padding: 0 0 0 0;\n",
              "      width: 32px;\n",
              "    }\n",
              "\n",
              "    .colab-df-convert:hover {\n",
              "      background-color: #E2EBFA;\n",
              "      box-shadow: 0px 1px 2px rgba(60, 64, 67, 0.3), 0px 1px 3px 1px rgba(60, 64, 67, 0.15);\n",
              "      fill: #174EA6;\n",
              "    }\n",
              "\n",
              "    [theme=dark] .colab-df-convert {\n",
              "      background-color: #3B4455;\n",
              "      fill: #D2E3FC;\n",
              "    }\n",
              "\n",
              "    [theme=dark] .colab-df-convert:hover {\n",
              "      background-color: #434B5C;\n",
              "      box-shadow: 0px 1px 3px 1px rgba(0, 0, 0, 0.15);\n",
              "      filter: drop-shadow(0px 1px 2px rgba(0, 0, 0, 0.3));\n",
              "      fill: #FFFFFF;\n",
              "    }\n",
              "  </style>\n",
              "\n",
              "      <script>\n",
              "        const buttonEl =\n",
              "          document.querySelector('#df-4d5e852f-e69d-4130-9506-a26a5919d6e5 button.colab-df-convert');\n",
              "        buttonEl.style.display =\n",
              "          google.colab.kernel.accessAllowed ? 'block' : 'none';\n",
              "\n",
              "        async function convertToInteractive(key) {\n",
              "          const element = document.querySelector('#df-4d5e852f-e69d-4130-9506-a26a5919d6e5');\n",
              "          const dataTable =\n",
              "            await google.colab.kernel.invokeFunction('convertToInteractive',\n",
              "                                                     [key], {});\n",
              "          if (!dataTable) return;\n",
              "\n",
              "          const docLinkHtml = 'Like what you see? Visit the ' +\n",
              "            '<a target=\"_blank\" href=https://colab.research.google.com/notebooks/data_table.ipynb>data table notebook</a>'\n",
              "            + ' to learn more about interactive tables.';\n",
              "          element.innerHTML = '';\n",
              "          dataTable['output_type'] = 'display_data';\n",
              "          await google.colab.output.renderOutput(dataTable, element);\n",
              "          const docLink = document.createElement('div');\n",
              "          docLink.innerHTML = docLinkHtml;\n",
              "          element.appendChild(docLink);\n",
              "        }\n",
              "      </script>\n",
              "    </div>\n",
              "  </div>\n",
              "  "
            ],
            "text/plain": [
              "            date     open    close    volume\n",
              "Name                                        \n",
              "AAL   2018-02-01   $54.00   $53.88   3623078\n",
              "AAPL  2018-02-01  $167.16  $167.78  47230787\n",
              "AAP   2018-02-01  $116.24  $117.29    760629\n",
              "ABBV  2018-02-01  $112.24  $116.34   9943452\n",
              "ABC   2018-02-01   $97.74   $99.29   2786798\n",
              "...          ...      ...      ...       ...\n",
              "XYL   2018-02-01   $72.50   $74.84   1817612\n",
              "YUM   2018-02-01   $84.24   $83.98   1685275\n",
              "ZBH   2018-02-01  $126.35  $128.19   1756300\n",
              "ZION  2018-02-01   $53.79   $54.98   3542047\n",
              "ZTS   2018-02-01   $76.84   $77.82   2982259\n",
              "\n",
              "[505 rows x 4 columns]"
            ]
          },
          "metadata": {},
          "execution_count": 2
        }
      ]
    },
    {
      "cell_type": "markdown",
      "metadata": {
        "id": "7IXwAbCnkVNQ"
      },
      "source": [
        "**ENTER YOUR WRITTEN EXPLANATION HERE.**"
      ]
    },
    {
      "cell_type": "markdown",
      "source": [
        "*What is the unit of observation in this data set?*\n",
        "\n",
        "The unit of observation in this data set is a company in the S&P500\n",
        "\n",
        "*Is there a variable that is natural to use as the index?*\n",
        "\n",
        "Yes, since each observational unit is a company in the S&P500 there can be no duplicates as each company is unique. Thus, we can use the 'Name' variable as the index."
      ],
      "metadata": {
        "id": "0K32Bv6YO1fg"
      }
    },
    {
      "cell_type": "markdown",
      "metadata": {
        "id": "jXLVHxjIkVNR"
      },
      "source": [
        "## Question 2\n",
        "\n",
        "We will start by looking at the `volume` column. This variable tells us how many shares were traded on that date.\n",
        "\n",
        "Extract the first digit of every value in this column. (_Hint:_ First, turn the numbers into strings. Then, use the [text processing functionalities](https://pandas.pydata.org/pandas-docs/stable/text.html) of `pandas` to extract the first character of each string.) Make an appropriate visualization to display the distribution of the first digits. (_Hint:_ Think carefully about whether the variable you are plotting is quantitative or categorical.)\n",
        "\n",
        "How does this compare with what you predicted in Question 0?"
      ]
    },
    {
      "cell_type": "code",
      "metadata": {
        "id": "gCnuPUejkVNS",
        "outputId": "c4f03008-eaf2-4a79-f40d-310c83598eeb",
        "colab": {
          "base_uri": "https://localhost:8080/",
          "height": 436
        }
      },
      "source": [
        "df_sp500[\"volume\"] = df_sp500[\"volume\"].astype(str)\n",
        "df_sp500[\"vol_first_digit\"] = df_sp500[\"volume\"].str.split(\"\").str[1]\n",
        "vol_first_digit_dist = df_sp500[\"vol_first_digit\"].value_counts(normalize=True)\n",
        "vol_first_digit_dist.plot.bar()\n",
        "vol_first_digit_dist\n"
      ],
      "execution_count": 9,
      "outputs": [
        {
          "output_type": "execute_result",
          "data": {
            "text/plain": [
              "1    0.326733\n",
              "2    0.184158\n",
              "3    0.116832\n",
              "4    0.085149\n",
              "5    0.081188\n",
              "6    0.071287\n",
              "7    0.049505\n",
              "8    0.043564\n",
              "9    0.041584\n",
              "Name: vol_first_digit, dtype: float64"
            ]
          },
          "metadata": {},
          "execution_count": 9
        },
        {
          "output_type": "display_data",
          "data": {
            "image/png": "[encoded data removed]",
            "text/plain": [
              "<Figure size 432x288 with 1 Axes>"
            ]
          },
          "metadata": {
            "needs_background": "light"
          }
        }
      ]
    },
    {
      "cell_type": "markdown",
      "metadata": {
        "id": "YiTi4orlkVNU"
      },
      "source": [
        "**ENTER YOUR WRITTEN EXPLANATION HERE.**"
      ]
    },
    {
      "cell_type": "markdown",
      "source": [
        "*How does this compare with what you predicted in Question 0?*\n",
        "\n",
        "In comparison to my estimates in question 0, the percentage of values that have 1 as a first digit is much higher than I anticipated. The proportion of numbers with a first digit of 1 is 0.327, which is over triple my estimate of 0.111. On the other hand, the percentage of values that have 9 as a first digit was much smaller than I anticipated. The proportion of numbers with a first digit of 9 was 0.0416, which is less than half of my estimate of 0.111."
      ],
      "metadata": {
        "id": "HQ4jlSnfVjDf"
      }
    },
    {
      "cell_type": "markdown",
      "metadata": {
        "id": "gX4YumLtkVNV"
      },
      "source": [
        "## Question 3\n",
        "\n",
        "Now, repeat Question 2, but for the distribution of _last_ digits. Again, make an appropriate visualization and compare with your prediction in Question 0."
      ]
    },
    {
      "cell_type": "code",
      "metadata": {
        "id": "PdKf6S7DkVNX",
        "outputId": "8998d12d-95ee-4d1a-9f85-ee9ba0d900be",
        "colab": {
          "base_uri": "https://localhost:8080/",
          "height": 453
        }
      },
      "source": [
        "df_sp500[\"volume\"] = df_sp500[\"volume\"].astype(str)\n",
        "df_sp500[\"vol_last_digit\"] = df_sp500[\"volume\"].str.split(\"\").str[-2]\n",
        "vol_last_digit_dist = df_sp500[\"vol_last_digit\"].value_counts(normalize=True)\n",
        "vol_last_digit_dist = vol_last_digit_dist.sort_index()\n",
        "vol_last_digit_dist.plot.bar()\n",
        "vol_last_digit_dist\n",
        "#vol_last_digit_dist.plot.bar()\n",
        "#vol_series = pd.Series(df_sp500[\"volume\"].str.split(\"\"))\n",
        "#for i in range(total_num_3):\n",
        "# vol_series.iloc[i] = vol_series.iloc[i][::-1]\n",
        "#method for reversing each array was from https://stackoverflow.com/questions/20444087/right-way-to-reverse-a-pandas-dataframe\n",
        "#df_sp500[\"vol_last_digit\"] = vol_series.str[1]\n",
        "\n",
        "\n"
      ],
      "execution_count": 20,
      "outputs": [
        {
          "output_type": "execute_result",
          "data": {
            "text/plain": [
              "0    0.102970\n",
              "1    0.104950\n",
              "2    0.110891\n",
              "3    0.095050\n",
              "4    0.079208\n",
              "5    0.087129\n",
              "6    0.100990\n",
              "7    0.102970\n",
              "8    0.110891\n",
              "9    0.104950\n",
              "Name: vol_last_digit, dtype: float64"
            ]
          },
          "metadata": {},
          "execution_count": 20
        },
        {
          "output_type": "display_data",
          "data": {
            "image/png": "[encoded data removed]",
            "text/plain": [
              "<Figure size 432x288 with 1 Axes>"
            ]
          },
          "metadata": {
            "needs_background": "light"
          }
        }
      ]
    },
    {
      "cell_type": "markdown",
      "metadata": {
        "id": "JPsZCTnAkVNZ"
      },
      "source": [
        "**ENTER YOUR WRITTEN EXPLANATION HERE.**"
      ]
    },
    {
      "cell_type": "markdown",
      "source": [
        "*Compare with your prediction in Question 0*\n",
        "\n",
        "In comparison to question 2, my estimations made in question 0 were much closer to the true proportions of the last digits in this data. Both 1 and 9 as last digits had the same proportion of 0.105. These true proportions were really close to my estimate of 0.10, meaning they did actually have about a 1 in 10 change of occuring as a last digit."
      ],
      "metadata": {
        "id": "5cZx33xdXpem"
      }
    },
    {
      "cell_type": "markdown",
      "metadata": {
        "id": "v3GOfL93kVNa"
      },
      "source": [
        "## Question 4\n",
        "\n",
        "Maybe the `volume` column was just a fluke. Let's see if the first digit distribution holds up when we look at a very different variable: the closing price of the stock. Make a visualization of the first digit distribution of the closing price (the `close` column of the `DataFrame`). Comment on what you see.\n",
        "\n",
        "(_Hint:_ What type did `pandas` infer this variable as and why? You will have to first clean the values using the [text processing functionalities](https://pandas.pydata.org/pandas-docs/stable/text.html) of `pandas` and then convert this variable to a quantitative variable.)"
      ]
    },
    {
      "cell_type": "code",
      "metadata": {
        "id": "0EAC_EY3kVNb",
        "colab": {
          "base_uri": "https://localhost:8080/",
          "height": 436
        },
        "outputId": "4b64ff36-0c4d-4764-f98f-294e82c9f2d8"
      },
      "source": [
        "#The close column was an object type because it had to include $ in its entry\n",
        "#Since it was already an object type, I did not need to change it before splitting it\n",
        "df_sp500[\"close_first_digit\"] = df_sp500[\"close\"].str.split(\"\").str[2]\n",
        "close_first_digit_dist = df_sp500[\"close_first_digit\"].value_counts(normalize=True)\n",
        "close_first_digit_dist.plot.bar()\n",
        "close_first_digit_dist\n",
        "\n",
        "\n"
      ],
      "execution_count": 26,
      "outputs": [
        {
          "output_type": "execute_result",
          "data": {
            "text/plain": [
              "1    0.338614\n",
              "2    0.108911\n",
              "3    0.102970\n",
              "6    0.095050\n",
              "4    0.085149\n",
              "7    0.085149\n",
              "5    0.077228\n",
              "8    0.055446\n",
              "9    0.051485\n",
              "Name: close_first_digit, dtype: float64"
            ]
          },
          "metadata": {},
          "execution_count": 26
        },
        {
          "output_type": "display_data",
          "data": {
            "image/png": "[encoded data removed]",
            "text/plain": [
              "<Figure size 432x288 with 1 Axes>"
            ]
          },
          "metadata": {
            "needs_background": "light"
          }
        }
      ]
    },
    {
      "cell_type": "markdown",
      "metadata": {
        "id": "YI6oR6sjkVNe"
      },
      "source": [
        "**ENTER YOUR WRITTEN EXPLANATION HERE.**"
      ]
    },
    {
      "cell_type": "markdown",
      "source": [
        "*Comment on what you see.*\n",
        "\n",
        "Similar to what occured in Question 2, the proportion of occurence for each digit as a first digit decreases as the digit increases. The proportion of 1 being the first digit is noticibably higher again with a proportion of \n",
        "0.339. Moreover, the proportion of 9 being the first digit is the lowest again with a proportion of 0.0515."
      ],
      "metadata": {
        "id": "l2FxN-adWZRX"
      }
    }
  ]
}